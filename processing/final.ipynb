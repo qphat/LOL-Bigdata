{
 "cells": [
  {
   "cell_type": "code",
   "id": "initial_id",
   "metadata": {
    "collapsed": true,
    "ExecuteTime": {
     "end_time": "2025-06-19T09:21:39.688062Z",
     "start_time": "2025-06-19T09:21:37.912823Z"
    }
   },
   "source": [
    "import pandas as pd\n",
    "\n",
    "df = pd.read_csv(\"match_stats.csv\")\n"
   ],
   "outputs": [],
   "execution_count": 1
  },
  {
   "metadata": {
    "ExecuteTime": {
     "end_time": "2025-06-19T09:24:10.590517Z",
     "start_time": "2025-06-19T09:24:10.577050Z"
    }
   },
   "cell_type": "code",
   "source": [
    "# Xem số dòng, số cột\n",
    "print(f\"Dữ liệu có {df.shape[0]} dòng và {df.shape[1]} cột\")\n",
    "\n",
    "# Xem vài dòng đầu\n",
    "df.head()\n"
   ],
   "id": "5edd4ada9b615ed8",
   "outputs": [
    {
     "name": "stdout",
     "output_type": "stream",
     "text": [
      "Dữ liệu có 26882 dòng và 9 cột\n"
     ]
    },
    {
     "data": {
      "text/plain": [
       "   teamId teamPosition championName    win  kills  deaths  assists  \\\n",
       "0     100          TOP         Gnar  False      1       6        3   \n",
       "1     100       JUNGLE     Pantheon  False      6       8        3   \n",
       "2     100       MIDDLE         Ryze  False      2       6       10   \n",
       "3     100       BOTTOM         Jhin  False      5       5        8   \n",
       "4     100      UTILITY     Nautilus  False      1       6        8   \n",
       "\n",
       "   visionScore       matchId  \n",
       "0           14  SG2_79062074  \n",
       "1           26  SG2_79062074  \n",
       "2           17  SG2_79062074  \n",
       "3           11  SG2_79062074  \n",
       "4           52  SG2_79062074  "
      ],
      "text/html": [
       "<div>\n",
       "<style scoped>\n",
       "    .dataframe tbody tr th:only-of-type {\n",
       "        vertical-align: middle;\n",
       "    }\n",
       "\n",
       "    .dataframe tbody tr th {\n",
       "        vertical-align: top;\n",
       "    }\n",
       "\n",
       "    .dataframe thead th {\n",
       "        text-align: right;\n",
       "    }\n",
       "</style>\n",
       "<table border=\"1\" class=\"dataframe\">\n",
       "  <thead>\n",
       "    <tr style=\"text-align: right;\">\n",
       "      <th></th>\n",
       "      <th>teamId</th>\n",
       "      <th>teamPosition</th>\n",
       "      <th>championName</th>\n",
       "      <th>win</th>\n",
       "      <th>kills</th>\n",
       "      <th>deaths</th>\n",
       "      <th>assists</th>\n",
       "      <th>visionScore</th>\n",
       "      <th>matchId</th>\n",
       "    </tr>\n",
       "  </thead>\n",
       "  <tbody>\n",
       "    <tr>\n",
       "      <th>0</th>\n",
       "      <td>100</td>\n",
       "      <td>TOP</td>\n",
       "      <td>Gnar</td>\n",
       "      <td>False</td>\n",
       "      <td>1</td>\n",
       "      <td>6</td>\n",
       "      <td>3</td>\n",
       "      <td>14</td>\n",
       "      <td>SG2_79062074</td>\n",
       "    </tr>\n",
       "    <tr>\n",
       "      <th>1</th>\n",
       "      <td>100</td>\n",
       "      <td>JUNGLE</td>\n",
       "      <td>Pantheon</td>\n",
       "      <td>False</td>\n",
       "      <td>6</td>\n",
       "      <td>8</td>\n",
       "      <td>3</td>\n",
       "      <td>26</td>\n",
       "      <td>SG2_79062074</td>\n",
       "    </tr>\n",
       "    <tr>\n",
       "      <th>2</th>\n",
       "      <td>100</td>\n",
       "      <td>MIDDLE</td>\n",
       "      <td>Ryze</td>\n",
       "      <td>False</td>\n",
       "      <td>2</td>\n",
       "      <td>6</td>\n",
       "      <td>10</td>\n",
       "      <td>17</td>\n",
       "      <td>SG2_79062074</td>\n",
       "    </tr>\n",
       "    <tr>\n",
       "      <th>3</th>\n",
       "      <td>100</td>\n",
       "      <td>BOTTOM</td>\n",
       "      <td>Jhin</td>\n",
       "      <td>False</td>\n",
       "      <td>5</td>\n",
       "      <td>5</td>\n",
       "      <td>8</td>\n",
       "      <td>11</td>\n",
       "      <td>SG2_79062074</td>\n",
       "    </tr>\n",
       "    <tr>\n",
       "      <th>4</th>\n",
       "      <td>100</td>\n",
       "      <td>UTILITY</td>\n",
       "      <td>Nautilus</td>\n",
       "      <td>False</td>\n",
       "      <td>1</td>\n",
       "      <td>6</td>\n",
       "      <td>8</td>\n",
       "      <td>52</td>\n",
       "      <td>SG2_79062074</td>\n",
       "    </tr>\n",
       "  </tbody>\n",
       "</table>\n",
       "</div>"
      ]
     },
     "execution_count": 6,
     "metadata": {},
     "output_type": "execute_result"
    }
   ],
   "execution_count": 6
  },
  {
   "metadata": {
    "ExecuteTime": {
     "end_time": "2025-06-19T09:22:19.683968Z",
     "start_time": "2025-06-19T09:22:19.672718Z"
    }
   },
   "cell_type": "code",
   "source": [
    "# Đếm số lượng giá trị null theo từng cột\n",
    "df.isnull().sum()\n"
   ],
   "id": "49f6dd98ed9c61ff",
   "outputs": [
    {
     "data": {
      "text/plain": [
       "teamId             0\n",
       "teamPosition    5918\n",
       "championName       0\n",
       "win                0\n",
       "kills              0\n",
       "deaths             0\n",
       "assists            0\n",
       "visionScore        0\n",
       "matchId            0\n",
       "dtype: int64"
      ]
     },
     "execution_count": 3,
     "metadata": {},
     "output_type": "execute_result"
    }
   ],
   "execution_count": 3
  },
  {
   "metadata": {
    "ExecuteTime": {
     "end_time": "2025-06-19T09:24:01.339408Z",
     "start_time": "2025-06-19T09:24:01.263346Z"
    }
   },
   "cell_type": "code",
   "source": [
    "# Xóa các dòng bị thiếu 'position'\n",
    "df = df.dropna(subset=['teamPosition'])\n",
    "\n",
    "# In số dòng sau khi lọc\n",
    "print(\"Sau khi lọc:\", df.shape)\n",
    "\n",
    "# Ghi dữ liệu đã làm sạch ra file mới\n",
    "df.to_csv('cleaned_data.csv', index=False)"
   ],
   "id": "706ebdc91481fb45",
   "outputs": [
    {
     "name": "stdout",
     "output_type": "stream",
     "text": [
      "Sau khi lọc: (26882, 9)\n"
     ]
    }
   ],
   "execution_count": 5
  },
  {
   "metadata": {
    "ExecuteTime": {
     "end_time": "2025-06-19T09:50:28.456473Z",
     "start_time": "2025-06-19T09:50:28.130849Z"
    }
   },
   "cell_type": "code",
   "source": [
    "import pandas as pd\n",
    "\n",
    "# Load dữ liệu\n",
    "df = pd.read_csv(\"cleaned_data.csv\")  # đổi path nếu cần\n",
    "\n",
    "# --- 1. Chuyển cột 'win' từ True/False sang 1/0 ---\n",
    "df['win'] = df['win'].astype(int)\n",
    "\n",
    "# --- 2. Tạo thêm cột KDA và tham gia hạ gục ---\n",
    "df['KDA'] = (df['kills'] + df['assists']) / df['deaths'].replace(0, 1)\n",
    "df['kill_participation'] = df['kills'] + df['assists']\n",
    "\n",
    "# --- 3. Điền thiếu teamPosition bằng vị trí phổ biến nhất của từng championName ---\n",
    "champion_position_mode = (\n",
    "    df[df['teamPosition'].notna()]\n",
    "    .groupby('championName')['teamPosition']\n",
    "    .agg(lambda x: x.mode().iloc[0])\n",
    ")\n",
    "\n",
    "# Điền vào các dòng bị thiếu teamPosition\n",
    "df['teamPosition'] = df.apply(\n",
    "    lambda row: champion_position_mode[row['championName']] if pd.isna(row['teamPosition']) else row['teamPosition'],\n",
    "    axis=1\n",
    ")\n",
    "\n",
    "# --- 4. Tỷ lệ thắng theo tướng ---\n",
    "win_rate_by_champion = df.groupby('championName')['win'].mean().sort_values(ascending=False)\n",
    "\n",
    "# --- 5. Tỷ lệ thắng theo vị trí ---\n",
    "win_rate_by_position = df.groupby('teamPosition')['win'].mean().sort_values(ascending=False)\n",
    "\n",
    "# --- 6. Điểm tầm nhìn trung bình theo win/thua ---\n",
    "vision_score_by_win = df.groupby('win')['visionScore'].mean()\n",
    "\n",
    "# --- (Gợi ý) 7. Thêm cột gold_efficiency nếu bạn có goldEarned và damage ---\n",
    "# if 'goldEarned' in df.columns and 'totalDamageDealtToChampions' in df.columns:\n",
    "#     df['gold_efficiency'] = df['totalDamageDealtToChampions'] / df['goldEarned']\n",
    "\n",
    "# Lưu lại để import lên QuickSight nếu muốn\n",
    "df.to_csv(\"match_data_cleaned.csv\", index=False)"
   ],
   "id": "a24a566dcca8136d",
   "outputs": [],
   "execution_count": 9
  },
  {
   "metadata": {
    "ExecuteTime": {
     "end_time": "2025-06-19T09:50:43.356559Z",
     "start_time": "2025-06-19T09:50:43.343028Z"
    }
   },
   "cell_type": "code",
   "source": "df.head()",
   "id": "84034ee40631ee72",
   "outputs": [
    {
     "data": {
      "text/plain": [
       "   teamId teamPosition championName  win  kills  deaths  assists  visionScore  \\\n",
       "0     100          TOP         Gnar    0      1       6        3           14   \n",
       "1     100       JUNGLE     Pantheon    0      6       8        3           26   \n",
       "2     100       MIDDLE         Ryze    0      2       6       10           17   \n",
       "3     100       BOTTOM         Jhin    0      5       5        8           11   \n",
       "4     100      UTILITY     Nautilus    0      1       6        8           52   \n",
       "\n",
       "        matchId       KDA  kill_participation  \n",
       "0  SG2_79062074  0.666667                   4  \n",
       "1  SG2_79062074  1.125000                   9  \n",
       "2  SG2_79062074  2.000000                  12  \n",
       "3  SG2_79062074  2.600000                  13  \n",
       "4  SG2_79062074  1.500000                   9  "
      ],
      "text/html": [
       "<div>\n",
       "<style scoped>\n",
       "    .dataframe tbody tr th:only-of-type {\n",
       "        vertical-align: middle;\n",
       "    }\n",
       "\n",
       "    .dataframe tbody tr th {\n",
       "        vertical-align: top;\n",
       "    }\n",
       "\n",
       "    .dataframe thead th {\n",
       "        text-align: right;\n",
       "    }\n",
       "</style>\n",
       "<table border=\"1\" class=\"dataframe\">\n",
       "  <thead>\n",
       "    <tr style=\"text-align: right;\">\n",
       "      <th></th>\n",
       "      <th>teamId</th>\n",
       "      <th>teamPosition</th>\n",
       "      <th>championName</th>\n",
       "      <th>win</th>\n",
       "      <th>kills</th>\n",
       "      <th>deaths</th>\n",
       "      <th>assists</th>\n",
       "      <th>visionScore</th>\n",
       "      <th>matchId</th>\n",
       "      <th>KDA</th>\n",
       "      <th>kill_participation</th>\n",
       "    </tr>\n",
       "  </thead>\n",
       "  <tbody>\n",
       "    <tr>\n",
       "      <th>0</th>\n",
       "      <td>100</td>\n",
       "      <td>TOP</td>\n",
       "      <td>Gnar</td>\n",
       "      <td>0</td>\n",
       "      <td>1</td>\n",
       "      <td>6</td>\n",
       "      <td>3</td>\n",
       "      <td>14</td>\n",
       "      <td>SG2_79062074</td>\n",
       "      <td>0.666667</td>\n",
       "      <td>4</td>\n",
       "    </tr>\n",
       "    <tr>\n",
       "      <th>1</th>\n",
       "      <td>100</td>\n",
       "      <td>JUNGLE</td>\n",
       "      <td>Pantheon</td>\n",
       "      <td>0</td>\n",
       "      <td>6</td>\n",
       "      <td>8</td>\n",
       "      <td>3</td>\n",
       "      <td>26</td>\n",
       "      <td>SG2_79062074</td>\n",
       "      <td>1.125000</td>\n",
       "      <td>9</td>\n",
       "    </tr>\n",
       "    <tr>\n",
       "      <th>2</th>\n",
       "      <td>100</td>\n",
       "      <td>MIDDLE</td>\n",
       "      <td>Ryze</td>\n",
       "      <td>0</td>\n",
       "      <td>2</td>\n",
       "      <td>6</td>\n",
       "      <td>10</td>\n",
       "      <td>17</td>\n",
       "      <td>SG2_79062074</td>\n",
       "      <td>2.000000</td>\n",
       "      <td>12</td>\n",
       "    </tr>\n",
       "    <tr>\n",
       "      <th>3</th>\n",
       "      <td>100</td>\n",
       "      <td>BOTTOM</td>\n",
       "      <td>Jhin</td>\n",
       "      <td>0</td>\n",
       "      <td>5</td>\n",
       "      <td>5</td>\n",
       "      <td>8</td>\n",
       "      <td>11</td>\n",
       "      <td>SG2_79062074</td>\n",
       "      <td>2.600000</td>\n",
       "      <td>13</td>\n",
       "    </tr>\n",
       "    <tr>\n",
       "      <th>4</th>\n",
       "      <td>100</td>\n",
       "      <td>UTILITY</td>\n",
       "      <td>Nautilus</td>\n",
       "      <td>0</td>\n",
       "      <td>1</td>\n",
       "      <td>6</td>\n",
       "      <td>8</td>\n",
       "      <td>52</td>\n",
       "      <td>SG2_79062074</td>\n",
       "      <td>1.500000</td>\n",
       "      <td>9</td>\n",
       "    </tr>\n",
       "  </tbody>\n",
       "</table>\n",
       "</div>"
      ]
     },
     "execution_count": 10,
     "metadata": {},
     "output_type": "execute_result"
    }
   ],
   "execution_count": 10
  },
  {
   "metadata": {},
   "cell_type": "code",
   "outputs": [],
   "execution_count": null,
   "source": "",
   "id": "42d98a27cb67922c"
  }
 ],
 "metadata": {
  "kernelspec": {
   "display_name": "Python 3",
   "language": "python",
   "name": "python3"
  },
  "language_info": {
   "codemirror_mode": {
    "name": "ipython",
    "version": 2
   },
   "file_extension": ".py",
   "mimetype": "text/x-python",
   "name": "python",
   "nbconvert_exporter": "python",
   "pygments_lexer": "ipython2",
   "version": "2.7.6"
  }
 },
 "nbformat": 4,
 "nbformat_minor": 5
}
